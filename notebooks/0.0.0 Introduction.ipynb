{
 "cells": [
  {
   "cell_type": "code",
   "execution_count": null,
   "metadata": {},
   "outputs": [],
   "source": [
    "'''\n",
    "This project analyzes the startups that registered for the 2022 startupper challenge by \n",
    "total energy.\n",
    "\n",
    "In this project, my aim is to answer 3 distinct questions:\n",
    "    1. What types of problems are upcoming founders trying to solve?\n",
    "    2. What opportunities may arise from solving the identified challenges?\n",
    "    3. What are the challenges that these founders may face in trying to solve these \n",
    "    challenges?\n",
    "    \n",
    "My main motivation behind this analysis is to understand the Kenyan startup ecosystem\n",
    "especially with respect to opportunities or challenges that are yet to be discovered. In\n",
    "summary, I want to find that niche in a given industry that is yet to be filled.\n",
    "\n",
    "The data used in this analysis was scraped from the startuppper challenge website.\n",
    "'''"
   ]
  },
  {
   "cell_type": "code",
   "execution_count": null,
   "metadata": {},
   "outputs": [],
   "source": [
    "'''\n",
    "The Data Analysis Project Check list\n",
    "    1. Frame the problem and look at the big picture\n",
    "    2. Get the data\n",
    "    3. Explore the data to gain insights\n",
    "    4. Prepare the data to better expose the underlyting patterns to machine learning \n",
    "    algorithms\n",
    "    5. Explore many different models and shortlist the best ones\n",
    "    6. Fine-tune your models and combine them into a great solution\n",
    "    7. Present your solution\n",
    "    8. Launch, monitor and maintain your system\n",
    "'''"
   ]
  }
 ],
 "metadata": {
  "kernelspec": {
   "display_name": "Python 3",
   "language": "python",
   "name": "python3"
  },
  "language_info": {
   "codemirror_mode": {
    "name": "ipython",
    "version": 3
   },
   "file_extension": ".py",
   "mimetype": "text/x-python",
   "name": "python",
   "nbconvert_exporter": "python",
   "pygments_lexer": "ipython3",
   "version": "3.7.6"
  }
 },
 "nbformat": 4,
 "nbformat_minor": 4
}

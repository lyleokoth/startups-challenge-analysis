{
 "cells": [
  {
   "cell_type": "code",
   "execution_count": null,
   "metadata": {},
   "outputs": [],
   "source": [
    "'''\n",
    "Startupper 2022 Total Challenge Analysis\n",
    "'''"
   ]
  },
  {
   "cell_type": "code",
   "execution_count": null,
   "metadata": {},
   "outputs": [],
   "source": [
    "'''\n",
    "I've been part of two failed startups.\n",
    "    1. The first startup was about creating an android\n",
    "    application that enabled farmers to detect diseases on their crops by taking photos using\n",
    "    their phone cameras and passing the photos through a machine learning algorithm. The\n",
    "    startup failed after six months due to numerous reasons including:\n",
    "        a) Terrible team chemistry\n",
    "        b) Technology challenges\n",
    "        c) Practicality of the solution\n",
    "    2. The second startup didn't quite fail, I shut it down. It was about making autonomous\n",
    "        mobile robots for moving items in warehouses. I made it upto to the prototype stage\n",
    "        then stopped. Why did I do that?\n",
    "            a) Lack of clients - I did not do market analysis\n",
    "            b) I ran out of funds\n",
    "            \n",
    "So I decidedto take a different approach to my next startup. I will analyze existing\n",
    "startups and try to find either an industry niche that they do not address or an \n",
    "opportunity that will arise from the solutions that they will present. The data for this\n",
    "analysis comes from the startupper challenge 2022 organized by Total energy.\n",
    "\n",
    "'''"
   ]
  },
  {
   "cell_type": "code",
   "execution_count": null,
   "metadata": {},
   "outputs": [],
   "source": [
    "'''\n",
    "I am going to analyze the various startups registered in the challenge, and use additional\n",
    "data from their own websites, social media pages as well as media coverage. The aim of the\n",
    "analysis will be to answer three questions:\n",
    "    1. What types of problems are upcoming founders trying to solve?\n",
    "    2. What opportunities may arise from solving the identified challenges?\n",
    "    3. What are the challenges that these founders may face in trying to solve these \n",
    "    challenges?\n",
    "    \n",
    "An answer to any of the three questions would yield my next startup idea. Along the way I\n",
    "would love to discover:\n",
    "    1. The industries covered\n",
    "    2. The technologies used\n",
    "    3. The infrastructural challenges\n",
    "    4. The talent\n",
    "'''"
   ]
  }
 ],
 "metadata": {
  "kernelspec": {
   "display_name": "Python 3",
   "language": "python",
   "name": "python3"
  },
  "language_info": {
   "codemirror_mode": {
    "name": "ipython",
    "version": 3
   },
   "file_extension": ".py",
   "mimetype": "text/x-python",
   "name": "python",
   "nbconvert_exporter": "python",
   "pygments_lexer": "ipython3",
   "version": "3.7.6"
  }
 },
 "nbformat": 4,
 "nbformat_minor": 4
}
